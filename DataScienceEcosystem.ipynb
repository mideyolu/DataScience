{
 "cells": [
  {
   "cell_type": "markdown",
   "id": "df2fa535",
   "metadata": {},
   "source": [
    "# Data Science Tools and Ecosystem"
   ]
  },
  {
   "cell_type": "markdown",
   "id": "40c4cd74",
   "metadata": {},
   "source": [
    "In this notebook, Data Science Tools and Ecosystem are summarized\n"
   ]
  },
  {
   "cell_type": "markdown",
   "id": "b1c22fff",
   "metadata": {},
   "source": [
    "Data Science Tools and Ecosystem are summarized."
   ]
  },
  {
   "cell_type": "markdown",
   "id": "346dd97a",
   "metadata": {},
   "source": [
    "Some of the popular languages that Data Scientists use are:\n",
    "1. Python\n",
    "2. R\n",
    "3. SQL\n"
   ]
  },
  {
   "cell_type": "markdown",
   "id": "c1f8dd8c",
   "metadata": {},
   "source": [
    "Some of the commonly used libraries used by Data Scientists include:\n",
    "1. NumPy.\n",
    "2. Pandas.\n",
    "3. Matplotlib."
   ]
  },
  {
   "cell_type": "markdown",
   "id": "17ff8a81",
   "metadata": {},
   "source": [
    "Data Science Tools"
   ]
  },
  {
   "cell_type": "markdown",
   "id": "43d083c1",
   "metadata": {},
   "source": [
    "1. Apache Spark"
   ]
  },
  {
   "cell_type": "markdown",
   "id": "d6c0c044",
   "metadata": {},
   "source": [
    "2. Tableau"
   ]
  },
  {
   "cell_type": "markdown",
   "id": "e3610405",
   "metadata": {},
   "source": [
    "3. TensorFlow"
   ]
  },
  {
   "cell_type": "markdown",
   "id": "5bc6144a",
   "metadata": {},
   "source": [
    "### Below are a few examples of evaluating arithmetic expressions in Python.\n",
    "1. Addition: `3 + 4` equals 7.\n",
    "2. Subtraction: `10 - 5` equals 5.\n",
    "3. Multiplication: `6 * 8` equals 48.\n",
    "4. Division: `20 / 4` equals 5."
   ]
  },
  {
   "cell_type": "code",
   "execution_count": 3,
   "id": "d3fbce24",
   "metadata": {},
   "outputs": [
    {
     "data": {
      "text/plain": [
       "17"
      ]
     },
     "execution_count": 3,
     "metadata": {},
     "output_type": "execute_result"
    }
   ],
   "source": [
    "result = (3 * 4) + 5\n",
    "result\n"
   ]
  },
  {
   "cell_type": "code",
   "execution_count": 4,
   "id": "699b934a",
   "metadata": {},
   "outputs": [
    {
     "data": {
      "text/plain": [
       "3.3333333333333335"
      ]
     },
     "execution_count": 4,
     "metadata": {},
     "output_type": "execute_result"
    }
   ],
   "source": [
    "minutes = 200\n",
    "hours = minutes/ 60\n",
    "hours"
   ]
  },
  {
   "cell_type": "markdown",
   "id": "962bc45e",
   "metadata": {},
   "source": [
    "**Objectives:**\n",
    "\n",
    "- List popular languages for Data Science.\n",
    "- Introduce common data science libraries.\n",
    "- Provide examples of arithmetic operations.\n",
    "- Convert units (minutes to hours).\n"
   ]
  },
  {
   "cell_type": "markdown",
   "id": "de5a1271",
   "metadata": {},
   "source": [
    "## Author\n",
    "Oluwuyi Olumide Ismail"
   ]
  }
 ],
 "metadata": {
  "kernelspec": {
   "display_name": "Python 3 (ipykernel)",
   "language": "python",
   "name": "python3"
  },
  "language_info": {
   "codemirror_mode": {
    "name": "ipython",
    "version": 3
   },
   "file_extension": ".py",
   "mimetype": "text/x-python",
   "name": "python",
   "nbconvert_exporter": "python",
   "pygments_lexer": "ipython3",
   "version": "3.9.12"
  }
 },
 "nbformat": 4,
 "nbformat_minor": 5
}
