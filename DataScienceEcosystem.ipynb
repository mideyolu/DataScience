{
 "cells": [
  {
   "cell_type": "markdown",
   "id": "5b96d693",
   "metadata": {},
   "source": [
    "# Data Science Tools and Ecosystem"
   ]
  },
  {
   "cell_type": "markdown",
   "id": "eb545705",
   "metadata": {},
   "source": [
    "In this notebook, Data Science Tools and Ecosystem are summarized\n"
   ]
  },
  {
   "cell_type": "markdown",
   "id": "09a8a8e0",
   "metadata": {},
   "source": [
    "Data Science Tools and Ecosystem are summarized."
   ]
  },
  {
   "cell_type": "markdown",
   "id": "07bb559d",
   "metadata": {},
   "source": [
    "Some of the popular languages that Data Scientists use are:\n",
    "1. Python\n",
    "2. R\n",
    "3. SQL\n"
   ]
  },
  {
   "cell_type": "markdown",
   "id": "271ca37f",
   "metadata": {},
   "source": [
    "Some of the commonly used libraries used by Data Scientists include:\n",
    "1. NumPy.\n",
    "2. Pandas.\n",
    "3. Matplotlib."
   ]
  },
  {
   "cell_type": "markdown",
   "id": "cd19b0c4",
   "metadata": {},
   "source": [
    "Data Science Tools.\n",
    "1. Jupyter Notebook\n",
    "2. Apache Spark\n",
    "3. Python"
   ]
  },
  {
   "cell_type": "markdown",
   "id": "8ffef3be",
   "metadata": {},
   "source": [
    "### Below are a few examples of evaluating arithmetic expressions in Python.\n",
    "1. Addition: `3 + 4` equals 7.\n",
    "2. Subtraction: `10 - 5` equals 5.\n",
    "3. Multiplication: `6 * 8` equals 48.\n",
    "4. Division: `20 / 4` equals 5."
   ]
  },
  {
   "cell_type": "code",
   "execution_count": 3,
   "id": "5d244dfe",
   "metadata": {},
   "outputs": [
    {
     "data": {
      "text/plain": [
       "17"
      ]
     },
     "execution_count": 3,
     "metadata": {},
     "output_type": "execute_result"
    }
   ],
   "source": [
    "result = (3 * 4) + 5\n",
    "result\n"
   ]
  },
  {
   "cell_type": "code",
   "execution_count": 4,
   "id": "b1e8cc95",
   "metadata": {},
   "outputs": [
    {
     "data": {
      "text/plain": [
       "3.3333333333333335"
      ]
     },
     "execution_count": 4,
     "metadata": {},
     "output_type": "execute_result"
    }
   ],
   "source": [
    "minutes = 200\n",
    "hours = minutes/ 60\n",
    "hours"
   ]
  },
  {
   "cell_type": "markdown",
   "id": "73f59b90",
   "metadata": {},
   "source": [
    "**Objectives:**\n",
    "\n",
    "- List popular languages for Data Science.\n",
    "- Introduce common data science libraries.\n",
    "- Provide examples of arithmetic operations.\n",
    "- Convert units (minutes to hours).\n"
   ]
  },
  {
   "cell_type": "markdown",
   "id": "6c9cdb7a",
   "metadata": {},
   "source": [
    "## Author\n",
    "Oluwuyi Olumide Ismail"
   ]
  }
 ],
 "metadata": {
  "kernelspec": {
   "display_name": "Python 3 (ipykernel)",
   "language": "python",
   "name": "python3"
  },
  "language_info": {
   "codemirror_mode": {
    "name": "ipython",
    "version": 3
   },
   "file_extension": ".py",
   "mimetype": "text/x-python",
   "name": "python",
   "nbconvert_exporter": "python",
   "pygments_lexer": "ipython3",
   "version": "3.9.12"
  }
 },
 "nbformat": 4,
 "nbformat_minor": 5
}
